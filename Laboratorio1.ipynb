{
  "nbformat": 4,
  "nbformat_minor": 0,
  "metadata": {
    "colab": {
      "provenance": [],
      "authorship_tag": "ABX9TyMRmnjhs/BQJq+CkIkrdsph",
      "include_colab_link": true
    },
    "kernelspec": {
      "name": "python3",
      "display_name": "Python 3"
    },
    "language_info": {
      "name": "python"
    }
  },
  "cells": [
    {
      "cell_type": "markdown",
      "metadata": {
        "id": "view-in-github",
        "colab_type": "text"
      },
      "source": [
        "<a href=\"https://colab.research.google.com/github/GapFinance/sample/blob/master/Laboratorio1.ipynb\" target=\"_parent\"><img src=\"https://colab.research.google.com/assets/colab-badge.svg\" alt=\"Open In Colab\"/></a>"
      ]
    },
    {
      "cell_type": "markdown",
      "source": [
        "Práctica 1 de Talento Tech : Incluye Importar un **Dataset**"
      ],
      "metadata": {
        "id": "yd7iiDt0gNRU"
      }
    },
    {
      "cell_type": "code",
      "source": [
        "# Paso 1 : Importar las librerias Recqueridas\n",
        "# Paso 1.1 : Debo tener el archivo en una carpeta\n",
        "# Paso 2 : Debo Establecer una conexion con la Carpeta\n",
        "# Paso 3 : Ejecutar la Celda de la Conexión y revisar que este OK."
      ],
      "metadata": {
        "id": "zq3X-8T-gkB_"
      },
      "execution_count": null,
      "outputs": []
    },
    {
      "cell_type": "markdown",
      "source": [
        "Ingreso de Nuevos Datos"
      ],
      "metadata": {
        "id": "VxjB2IaYg-Nw"
      }
    },
    {
      "cell_type": "code",
      "source": [
        "from google.colab import drive # Traemos la clase Drive, dentro del módulo Colab del paquete Google.\n",
        "drive.mount('/content/drive', force_remount=True) # Establecemos la conexión a través del método mount"
      ],
      "metadata": {
        "colab": {
          "base_uri": "https://localhost:8080/"
        },
        "id": "-1gWVUZjhCY9",
        "outputId": "cab41b6e-7541-4785-d4dc-6f25ac2d38e0"
      },
      "execution_count": null,
      "outputs": [
        {
          "output_type": "stream",
          "name": "stdout",
          "text": [
            "Mounted at /content/drive\n"
          ]
        }
      ]
    },
    {
      "cell_type": "code",
      "source": [
        "from os import path\n",
        "#Establezco la conexión con mi fuente y con el Dataset de prueba Ventas.xlsx\n",
        "path= '/content/drive/MyDrive/Colab Notebooks/Data/0. Ventas - Original.xlsx'"
      ],
      "metadata": {
        "id": "eP7y436BkZQT"
      },
      "execution_count": null,
      "outputs": []
    },
    {
      "cell_type": "code",
      "source": [
        "# Importamos la libreria para manipulación de datos llamada Pandas\n",
        "import pandas as pd"
      ],
      "metadata": {
        "id": "rxHAHzLIlWGe"
      },
      "execution_count": null,
      "outputs": []
    },
    {
      "cell_type": "code",
      "source": [
        "#Creamos un Dataframe de pandas con los datos suministrados\n",
        "df_Ventas = pd.read_excel(path)"
      ],
      "metadata": {
        "id": "BwGG7H_kllCk"
      },
      "execution_count": null,
      "outputs": []
    },
    {
      "cell_type": "code",
      "source": [
        "#Ejercicio 1: Mostrar las primeras filas del Dataframe\n",
        "print(\"Ejercicio 1: Mostrar las primeras filas del DataFrame\")\n",
        "print(df_Ventas.head(5))"
      ],
      "metadata": {
        "colab": {
          "base_uri": "https://localhost:8080/"
        },
        "id": "BUv90HniFrpp",
        "outputId": "ffa89599-c76e-45f4-cd99-f5e5e487e75c"
      },
      "execution_count": null,
      "outputs": [
        {
          "output_type": "stream",
          "name": "stdout",
          "text": [
            "Ejercicio 1: Mostrar las primeras filas del DataFrame\n",
            "   Fecha   Region      Producto Vendedor  Ventas\n",
            "0  45322  Central    Accesorios    David    8287\n",
            "1  45323  Central    Accesorios    Karen    6909\n",
            "2  45324  Central  Dispositivos    David   11420\n",
            "3  45325  Central  Dispositivos    Karen   12948\n",
            "4  45326  Central      Sistemas    David   20098\n"
          ]
        }
      ]
    },
    {
      "cell_type": "code",
      "source": [],
      "metadata": {
        "id": "Y4ZsuTU9VgYZ"
      },
      "execution_count": null,
      "outputs": []
    },
    {
      "cell_type": "code",
      "source": [
        "#Ejercicio 2: Calcular el total de ventas por region\n",
        "print(\"Ejercicio 2: Calcular el total de ventas por region\")\n",
        "ventas_por_region = df_Ventas.groupby('Region')['Ventas'].sum()\n",
        "print(ventas_por_region)\n",
        "print(\"\\n\")\n",
        "print(df_Ventas.head(10))\n"
      ],
      "metadata": {
        "colab": {
          "base_uri": "https://localhost:8080/"
        },
        "id": "FCe24AGQWiA2",
        "outputId": "a4862f77-5736-489c-bc71-94fb18d6b9b8"
      },
      "execution_count": null,
      "outputs": [
        {
          "output_type": "stream",
          "name": "stdout",
          "text": [
            "Ejercicio 2: Calcular el total de ventas por region\n",
            "Region\n",
            "Central    90295\n",
            "Este       63555\n",
            "Oeste      85683\n",
            "Name: Ventas, dtype: int64\n",
            "\n",
            "\n",
            "   Fecha   Region      Producto Vendedor  Ventas\n",
            "0  45322  Central    Accesorios    David    8287\n",
            "1  45323  Central    Accesorios    Karen    6909\n",
            "2  45324  Central  Dispositivos    David   11420\n",
            "3  45325  Central  Dispositivos    Karen   12948\n",
            "4  45326  Central      Sistemas    David   20098\n",
            "5  45327  Central      Sistemas    Karen   30633\n",
            "6  45328     Este    Accesorios      Ana    9323\n",
            "7  45329     Este    Accesorios    Lucas    7667\n",
            "8  45330     Este  Dispositivos      Ana   10348\n",
            "9  45331     Este  Dispositivos    Lucas    9312\n"
          ]
        }
      ]
    },
    {
      "cell_type": "code",
      "source": [
        "#Ejercicio 2: Calcular el total de ventas por region\n",
        "print(\"Ejercicio 2: Calcular el total de ventas por region\")\n",
        "ventas_por_region = df_Ventas.groupby('Region')['Ventas'].sum()\n",
        "print(ventas_por_region)\n",
        "print(\"\\n\")\n",
        "print(df_Ventas.head(10))"
      ],
      "metadata": {
        "colab": {
          "base_uri": "https://localhost:8080/"
        },
        "id": "FdU4E4NmGF87",
        "outputId": "cba8ad2a-ebe1-47ad-8571-5e55130e0fab"
      },
      "execution_count": null,
      "outputs": [
        {
          "output_type": "stream",
          "name": "stdout",
          "text": [
            "Ejercicio 2: Calcular el total de ventas por region\n",
            "Region\n",
            "Central    90295\n",
            "Este       63555\n",
            "Oeste      85683\n",
            "Name: Ventas, dtype: int64\n",
            "\n",
            "\n",
            "   Fecha   Region      Producto Vendedor  Ventas\n",
            "0  45322  Central    Accesorios    David    8287\n",
            "1  45323  Central    Accesorios    Karen    6909\n",
            "2  45324  Central  Dispositivos    David   11420\n",
            "3  45325  Central  Dispositivos    Karen   12948\n",
            "4  45326  Central      Sistemas    David   20098\n",
            "5  45327  Central      Sistemas    Karen   30633\n",
            "6  45328     Este    Accesorios      Ana    9323\n",
            "7  45329     Este    Accesorios    Lucas    7667\n",
            "8  45330     Este  Dispositivos      Ana   10348\n",
            "9  45331     Este  Dispositivos    Lucas    9312\n"
          ]
        }
      ]
    },
    {
      "cell_type": "code",
      "source": [
        "#Ejercicio 3: Filtrar el DataFrame para mostrar solo las ventas realizadas por David\n",
        "print(\"Ejercicio 3: Filtrar el DataFrame para mostrar solo las ventas realizadas por David\")\n",
        "ventas_david = df_Ventas[df_Ventas['Vendedor'] == 'David']\n",
        "print(ventas_david)"
      ],
      "metadata": {
        "colab": {
          "base_uri": "https://localhost:8080/"
        },
        "id": "QZIYPXj3HEd0",
        "outputId": "07ffa0e4-1561-4e11-859c-977371ec7505"
      },
      "execution_count": null,
      "outputs": [
        {
          "output_type": "stream",
          "name": "stdout",
          "text": [
            "Ejercicio 3: Filtrar el DataFrame para mostrar solo las ventas realizadas por David\n",
            "   Fecha   Region      Producto Vendedor  Ventas\n",
            "0  45322  Central    Accesorios    David    8287\n",
            "2  45324  Central  Dispositivos    David   11420\n",
            "4  45326  Central      Sistemas    David   20098\n"
          ]
        }
      ]
    },
    {
      "cell_type": "code",
      "source": [
        "#Ejercicio 4: Calcular el promedio de ventas por región\n",
        "print(\"Ejercicio 4: Calcular el promedio de ventas por región\")\n",
        "promedio_ventas_region = df_Ventas.groupby('Region')['Ventas'].mean()\n",
        "print(promedio_ventas_region)"
      ],
      "metadata": {
        "colab": {
          "base_uri": "https://localhost:8080/"
        },
        "id": "zvA3Y8nBKIJg",
        "outputId": "8d655ef6-91eb-455e-c93a-d994264069b0"
      },
      "execution_count": null,
      "outputs": [
        {
          "output_type": "stream",
          "name": "stdout",
          "text": [
            "Ejercicio 4: Calcular el promedio de ventas por región\n",
            "Region\n",
            "Central    15049.166667\n",
            "Este       10592.500000\n",
            "Oeste      14280.500000\n",
            "Name: Ventas, dtype: float64\n"
          ]
        }
      ]
    },
    {
      "cell_type": "code",
      "source": [
        "# prompt: Ejercicio 5 : Calcular el promedio de ventas por región con dos digitos\n",
        "print(\"Ejercicio 5: Calcular el promedio de ventas por región con dos digitos\")\n",
        "promedio_ventas_region = df_Ventas.groupby('Region')['Ventas'].mean()\n",
        "print(promedio_ventas_region.round(2))"
      ],
      "metadata": {
        "colab": {
          "base_uri": "https://localhost:8080/"
        },
        "id": "QAH4JzNKKogR",
        "outputId": "29631294-7c93-443d-e740-0ef9de8b801f"
      },
      "execution_count": null,
      "outputs": [
        {
          "output_type": "stream",
          "name": "stdout",
          "text": [
            "Ejercicio 5: Calcular el promedio de ventas por región con dos digitos\n",
            "Region\n",
            "Central    15049.17\n",
            "Este       10592.50\n",
            "Oeste      14280.50\n",
            "Name: Ventas, dtype: float64\n"
          ]
        }
      ]
    },
    {
      "cell_type": "code",
      "source": [
        "# Ejercicio 6: Ordenar el Dataframe por ventas en orden descendente\n",
        "print(\"Ejercicio 6: Ordenar el Dataframe por ventas en orden descendente\")\n",
        "df_Ventas_ordenado = df_Ventas.sort_values(by='Ventas', ascending=False)\n",
        "print(df_Ventas_ordenado)"
      ],
      "metadata": {
        "colab": {
          "base_uri": "https://localhost:8080/"
        },
        "id": "umNDLcqbLAYl",
        "outputId": "b503a6ff-b295-4e1a-86b0-dda11e07e0df"
      },
      "execution_count": null,
      "outputs": [
        {
          "output_type": "stream",
          "name": "stdout",
          "text": [
            "Ejercicio 6: Ordenar el Dataframe por ventas en orden descendente\n",
            "    Fecha   Region      Producto Vendedor  Ventas\n",
            "16  45338    Oeste      Sistemas    Kevin   32855\n",
            "5   45327  Central      Sistemas    Karen   30633\n",
            "17  45339    Oeste      Sistemas     Sara   23151\n",
            "4   45326  Central      Sistemas    David   20098\n",
            "10  45332     Este      Sistemas      Ana   13531\n",
            "11  45333     Este      Sistemas    Lucas   13374\n",
            "3   45325  Central  Dispositivos    Karen   12948\n",
            "2   45324  Central  Dispositivos    David   11420\n",
            "14  45336    Oeste  Dispositivos    Kevin   10711\n",
            "8   45330     Este  Dispositivos      Ana   10348\n",
            "6   45328     Este    Accesorios      Ana    9323\n",
            "9   45331     Este  Dispositivos    Lucas    9312\n",
            "15  45337    Oeste  Dispositivos     Sara    8780\n",
            "0   45322  Central    Accesorios    David    8287\n",
            "7   45329     Este    Accesorios    Lucas    7667\n",
            "1   45323  Central    Accesorios    Karen    6909\n",
            "13  45335    Oeste    Accesorios     Sara    5442\n",
            "12  45334    Oeste    Accesorios    Kevin    4744\n"
          ]
        }
      ]
    },
    {
      "cell_type": "markdown",
      "source": [
        "Manipulación de Datos:\n",
        "*   Filtra las cifras donde los valores sean mayores a 10.000\n",
        "*   Ordena el Dataframe por la columna de \"Ventas\" en orden desendente\n",
        "*   Elimina la columna Vendedor\n"
      ],
      "metadata": {
        "id": "UZa7Ek5FL6Ta"
      }
    },
    {
      "cell_type": "code",
      "source": [
        "# Ejercicio 7: Filtra las cifras donde los valores sean mayores a 10000\n",
        "print(\"Ejercicio 7: Filtra las cifras donde los valores sean mayores a 10000\")\n",
        "df_Ventas_filtrado = df_Ventas[df_Ventas['Ventas'] > 10000].sort_values(by='Ventas', ascending=False)\n",
        "print(df_Ventas_filtrado)"
      ],
      "metadata": {
        "colab": {
          "base_uri": "https://localhost:8080/"
        },
        "id": "AHeSrTfvMYp9",
        "outputId": "1c117cfc-f0fc-4039-eaa2-744cc809d402"
      },
      "execution_count": null,
      "outputs": [
        {
          "output_type": "stream",
          "name": "stdout",
          "text": [
            "Ejercicio 7: Filtra las cifras donde los valores sean mayores a 10000\n",
            "    Fecha   Region      Producto Vendedor  Ventas\n",
            "16  45338    Oeste      Sistemas    Kevin   32855\n",
            "5   45327  Central      Sistemas    Karen   30633\n",
            "17  45339    Oeste      Sistemas     Sara   23151\n",
            "4   45326  Central      Sistemas    David   20098\n",
            "10  45332     Este      Sistemas      Ana   13531\n",
            "11  45333     Este      Sistemas    Lucas   13374\n",
            "3   45325  Central  Dispositivos    Karen   12948\n",
            "2   45324  Central  Dispositivos    David   11420\n",
            "14  45336    Oeste  Dispositivos    Kevin   10711\n",
            "8   45330     Este  Dispositivos      Ana   10348\n"
          ]
        }
      ]
    },
    {
      "cell_type": "code",
      "source": [
        "# Ejercicio 8: Ordena el Dataframe por la columna de \"Ventas\" en orden desendente\n",
        "print(\"Ejercicio 8: Ordena el Dataframe por la columna de \\\"Ventas\\\" en orden desendente\")\n",
        "df_Ventas_ordenado = df_Ventas.sort_values(by='Ventas', ascending=False)\n",
        "print(df_Ventas_ordenado)"
      ],
      "metadata": {
        "id": "-nadJBMmMql-",
        "colab": {
          "base_uri": "https://localhost:8080/"
        },
        "outputId": "de06f025-66f0-4586-9ab1-6b42cf2a03e0"
      },
      "execution_count": null,
      "outputs": [
        {
          "output_type": "stream",
          "name": "stdout",
          "text": [
            "Ejercicio 8: Ordena el Dataframe por la columna de \"Ventas\" en orden desendente\n",
            "    Fecha   Region      Producto Vendedor  Ventas\n",
            "16  45338    Oeste      Sistemas    Kevin   32855\n",
            "5   45327  Central      Sistemas    Karen   30633\n",
            "17  45339    Oeste      Sistemas     Sara   23151\n",
            "4   45326  Central      Sistemas    David   20098\n",
            "10  45332     Este      Sistemas      Ana   13531\n",
            "11  45333     Este      Sistemas    Lucas   13374\n",
            "3   45325  Central  Dispositivos    Karen   12948\n",
            "2   45324  Central  Dispositivos    David   11420\n",
            "14  45336    Oeste  Dispositivos    Kevin   10711\n",
            "8   45330     Este  Dispositivos      Ana   10348\n",
            "6   45328     Este    Accesorios      Ana    9323\n",
            "9   45331     Este  Dispositivos    Lucas    9312\n",
            "15  45337    Oeste  Dispositivos     Sara    8780\n",
            "0   45322  Central    Accesorios    David    8287\n",
            "7   45329     Este    Accesorios    Lucas    7667\n",
            "1   45323  Central    Accesorios    Karen    6909\n",
            "13  45335    Oeste    Accesorios     Sara    5442\n",
            "12  45334    Oeste    Accesorios    Kevin    4744\n"
          ]
        }
      ]
    },
    {
      "cell_type": "code",
      "source": [
        "#Generar Graficos de analisis\n",
        "import matplotlib.pyplot as plt\n",
        "import seaborn as sns\n"
      ],
      "metadata": {
        "id": "XxIo8qG-WyKq"
      },
      "execution_count": null,
      "outputs": []
    },
    {
      "cell_type": "code",
      "source": [
        "# Ejercicio 8: Ordena el Dataframe por la columna de \"Ventas\" en orden desendente\n",
        "print(\"Ejercicio 8: Ordena el Dataframe por la columna de \\\"Ventas\\\" en orden desendente\")\n",
        "df_Ventas_ordenado = df_Ventas.sort_values(by='Ventas', ascending=False)\n",
        "print(df_Ventas_ordenado)"
      ],
      "metadata": {
        "colab": {
          "base_uri": "https://localhost:8080/"
        },
        "id": "g3p6kgFdW5YH",
        "outputId": "12cf7268-dd4c-4ac8-c2a2-173a323344a1"
      },
      "execution_count": null,
      "outputs": [
        {
          "output_type": "stream",
          "name": "stdout",
          "text": [
            "Ejercicio 8: Ordena el Dataframe por la columna de \"Ventas\" en orden desendente\n",
            "    Fecha   Region      Producto Vendedor  Ventas\n",
            "16  45338    Oeste      Sistemas    Kevin   32855\n",
            "5   45327  Central      Sistemas    Karen   30633\n",
            "17  45339    Oeste      Sistemas     Sara   23151\n",
            "4   45326  Central      Sistemas    David   20098\n",
            "10  45332     Este      Sistemas      Ana   13531\n",
            "11  45333     Este      Sistemas    Lucas   13374\n",
            "3   45325  Central  Dispositivos    Karen   12948\n",
            "2   45324  Central  Dispositivos    David   11420\n",
            "14  45336    Oeste  Dispositivos    Kevin   10711\n",
            "8   45330     Este  Dispositivos      Ana   10348\n",
            "6   45328     Este    Accesorios      Ana    9323\n",
            "9   45331     Este  Dispositivos    Lucas    9312\n",
            "15  45337    Oeste  Dispositivos     Sara    8780\n",
            "0   45322  Central    Accesorios    David    8287\n",
            "7   45329     Este    Accesorios    Lucas    7667\n",
            "1   45323  Central    Accesorios    Karen    6909\n",
            "13  45335    Oeste    Accesorios     Sara    5442\n",
            "12  45334    Oeste    Accesorios    Kevin    4744\n"
          ]
        }
      ]
    },
    {
      "cell_type": "code",
      "source": [
        "# Ejercicio 9: Elimina la columna Vendedor\n",
        "print(\"Ejercicio 9: Elimina la columna Vendedor\")\n",
        "df_Ventas_sin_vendedor = df_Ventas.drop('Vendedor', axis=1)\n",
        "print(df_Ventas_sin_vendedor)"
      ],
      "metadata": {
        "colab": {
          "base_uri": "https://localhost:8080/"
        },
        "id": "Ya2uEEMBNsm1",
        "outputId": "e871e82b-e388-4ac3-c2a5-9a2e99ed1782"
      },
      "execution_count": null,
      "outputs": [
        {
          "output_type": "stream",
          "name": "stdout",
          "text": [
            "Ejercicio 9: Elimina la columna Vendedor\n",
            "    Fecha   Region      Producto  Ventas\n",
            "0   45322  Central    Accesorios    8287\n",
            "1   45323  Central    Accesorios    6909\n",
            "2   45324  Central  Dispositivos   11420\n",
            "3   45325  Central  Dispositivos   12948\n",
            "4   45326  Central      Sistemas   20098\n",
            "5   45327  Central      Sistemas   30633\n",
            "6   45328     Este    Accesorios    9323\n",
            "7   45329     Este    Accesorios    7667\n",
            "8   45330     Este  Dispositivos   10348\n",
            "9   45331     Este  Dispositivos    9312\n",
            "10  45332     Este      Sistemas   13531\n",
            "11  45333     Este      Sistemas   13374\n",
            "12  45334    Oeste    Accesorios    4744\n",
            "13  45335    Oeste    Accesorios    5442\n",
            "14  45336    Oeste  Dispositivos   10711\n",
            "15  45337    Oeste  Dispositivos    8780\n",
            "16  45338    Oeste      Sistemas   32855\n",
            "17  45339    Oeste      Sistemas   23151\n"
          ]
        }
      ]
    },
    {
      "cell_type": "code",
      "source": [
        "# Factores de Conversión\n",
        "# kg_to_lbs = 0.453592\n",
        "# estatura_to_mt = 0.3048\n",
        "\n",
        "# ctrl + mayus + / para comentariar\n",
        "\n",
        "# Crear un nuevo dataframe llamado df_convertido\n",
        "# df_convertido = df_nombres\n",
        "\n"
      ],
      "metadata": {
        "id": "Q2dsgBS0Oe4_"
      },
      "execution_count": null,
      "outputs": []
    },
    {
      "cell_type": "code",
      "source": [
        "df_Ventas.describe()"
      ],
      "metadata": {
        "colab": {
          "base_uri": "https://localhost:8080/",
          "height": 300
        },
        "id": "A-BlF3QfQgFx",
        "outputId": "3f5b65f5-617d-472d-f534-c107c04fb997"
      },
      "execution_count": null,
      "outputs": [
        {
          "output_type": "execute_result",
          "data": {
            "text/plain": [
              "              Fecha        Ventas\n",
              "count     18.000000     18.000000\n",
              "mean   45330.500000  13307.388889\n",
              "std        5.338539   8153.055776\n",
              "min    45322.000000   4744.000000\n",
              "25%    45326.250000   8410.250000\n",
              "50%    45330.500000  10529.500000\n",
              "75%    45334.750000  13491.750000\n",
              "max    45339.000000  32855.000000"
            ],
            "text/html": [
              "\n",
              "  <div id=\"df-db564a57-ef89-4e8b-8a21-b3a702d704a8\" class=\"colab-df-container\">\n",
              "    <div>\n",
              "<style scoped>\n",
              "    .dataframe tbody tr th:only-of-type {\n",
              "        vertical-align: middle;\n",
              "    }\n",
              "\n",
              "    .dataframe tbody tr th {\n",
              "        vertical-align: top;\n",
              "    }\n",
              "\n",
              "    .dataframe thead th {\n",
              "        text-align: right;\n",
              "    }\n",
              "</style>\n",
              "<table border=\"1\" class=\"dataframe\">\n",
              "  <thead>\n",
              "    <tr style=\"text-align: right;\">\n",
              "      <th></th>\n",
              "      <th>Fecha</th>\n",
              "      <th>Ventas</th>\n",
              "    </tr>\n",
              "  </thead>\n",
              "  <tbody>\n",
              "    <tr>\n",
              "      <th>count</th>\n",
              "      <td>18.000000</td>\n",
              "      <td>18.000000</td>\n",
              "    </tr>\n",
              "    <tr>\n",
              "      <th>mean</th>\n",
              "      <td>45330.500000</td>\n",
              "      <td>13307.388889</td>\n",
              "    </tr>\n",
              "    <tr>\n",
              "      <th>std</th>\n",
              "      <td>5.338539</td>\n",
              "      <td>8153.055776</td>\n",
              "    </tr>\n",
              "    <tr>\n",
              "      <th>min</th>\n",
              "      <td>45322.000000</td>\n",
              "      <td>4744.000000</td>\n",
              "    </tr>\n",
              "    <tr>\n",
              "      <th>25%</th>\n",
              "      <td>45326.250000</td>\n",
              "      <td>8410.250000</td>\n",
              "    </tr>\n",
              "    <tr>\n",
              "      <th>50%</th>\n",
              "      <td>45330.500000</td>\n",
              "      <td>10529.500000</td>\n",
              "    </tr>\n",
              "    <tr>\n",
              "      <th>75%</th>\n",
              "      <td>45334.750000</td>\n",
              "      <td>13491.750000</td>\n",
              "    </tr>\n",
              "    <tr>\n",
              "      <th>max</th>\n",
              "      <td>45339.000000</td>\n",
              "      <td>32855.000000</td>\n",
              "    </tr>\n",
              "  </tbody>\n",
              "</table>\n",
              "</div>\n",
              "    <div class=\"colab-df-buttons\">\n",
              "\n",
              "  <div class=\"colab-df-container\">\n",
              "    <button class=\"colab-df-convert\" onclick=\"convertToInteractive('df-db564a57-ef89-4e8b-8a21-b3a702d704a8')\"\n",
              "            title=\"Convert this dataframe to an interactive table.\"\n",
              "            style=\"display:none;\">\n",
              "\n",
              "  <svg xmlns=\"http://www.w3.org/2000/svg\" height=\"24px\" viewBox=\"0 -960 960 960\">\n",
              "    <path d=\"M120-120v-720h720v720H120Zm60-500h600v-160H180v160Zm220 220h160v-160H400v160Zm0 220h160v-160H400v160ZM180-400h160v-160H180v160Zm440 0h160v-160H620v160ZM180-180h160v-160H180v160Zm440 0h160v-160H620v160Z\"/>\n",
              "  </svg>\n",
              "    </button>\n",
              "\n",
              "  <style>\n",
              "    .colab-df-container {\n",
              "      display:flex;\n",
              "      gap: 12px;\n",
              "    }\n",
              "\n",
              "    .colab-df-convert {\n",
              "      background-color: #E8F0FE;\n",
              "      border: none;\n",
              "      border-radius: 50%;\n",
              "      cursor: pointer;\n",
              "      display: none;\n",
              "      fill: #1967D2;\n",
              "      height: 32px;\n",
              "      padding: 0 0 0 0;\n",
              "      width: 32px;\n",
              "    }\n",
              "\n",
              "    .colab-df-convert:hover {\n",
              "      background-color: #E2EBFA;\n",
              "      box-shadow: 0px 1px 2px rgba(60, 64, 67, 0.3), 0px 1px 3px 1px rgba(60, 64, 67, 0.15);\n",
              "      fill: #174EA6;\n",
              "    }\n",
              "\n",
              "    .colab-df-buttons div {\n",
              "      margin-bottom: 4px;\n",
              "    }\n",
              "\n",
              "    [theme=dark] .colab-df-convert {\n",
              "      background-color: #3B4455;\n",
              "      fill: #D2E3FC;\n",
              "    }\n",
              "\n",
              "    [theme=dark] .colab-df-convert:hover {\n",
              "      background-color: #434B5C;\n",
              "      box-shadow: 0px 1px 3px 1px rgba(0, 0, 0, 0.15);\n",
              "      filter: drop-shadow(0px 1px 2px rgba(0, 0, 0, 0.3));\n",
              "      fill: #FFFFFF;\n",
              "    }\n",
              "  </style>\n",
              "\n",
              "    <script>\n",
              "      const buttonEl =\n",
              "        document.querySelector('#df-db564a57-ef89-4e8b-8a21-b3a702d704a8 button.colab-df-convert');\n",
              "      buttonEl.style.display =\n",
              "        google.colab.kernel.accessAllowed ? 'block' : 'none';\n",
              "\n",
              "      async function convertToInteractive(key) {\n",
              "        const element = document.querySelector('#df-db564a57-ef89-4e8b-8a21-b3a702d704a8');\n",
              "        const dataTable =\n",
              "          await google.colab.kernel.invokeFunction('convertToInteractive',\n",
              "                                                    [key], {});\n",
              "        if (!dataTable) return;\n",
              "\n",
              "        const docLinkHtml = 'Like what you see? Visit the ' +\n",
              "          '<a target=\"_blank\" href=https://colab.research.google.com/notebooks/data_table.ipynb>data table notebook</a>'\n",
              "          + ' to learn more about interactive tables.';\n",
              "        element.innerHTML = '';\n",
              "        dataTable['output_type'] = 'display_data';\n",
              "        await google.colab.output.renderOutput(dataTable, element);\n",
              "        const docLink = document.createElement('div');\n",
              "        docLink.innerHTML = docLinkHtml;\n",
              "        element.appendChild(docLink);\n",
              "      }\n",
              "    </script>\n",
              "  </div>\n",
              "\n",
              "\n",
              "<div id=\"df-60b37f42-ab6b-461d-826b-357d1a83dde7\">\n",
              "  <button class=\"colab-df-quickchart\" onclick=\"quickchart('df-60b37f42-ab6b-461d-826b-357d1a83dde7')\"\n",
              "            title=\"Suggest charts\"\n",
              "            style=\"display:none;\">\n",
              "\n",
              "<svg xmlns=\"http://www.w3.org/2000/svg\" height=\"24px\"viewBox=\"0 0 24 24\"\n",
              "     width=\"24px\">\n",
              "    <g>\n",
              "        <path d=\"M19 3H5c-1.1 0-2 .9-2 2v14c0 1.1.9 2 2 2h14c1.1 0 2-.9 2-2V5c0-1.1-.9-2-2-2zM9 17H7v-7h2v7zm4 0h-2V7h2v10zm4 0h-2v-4h2v4z\"/>\n",
              "    </g>\n",
              "</svg>\n",
              "  </button>\n",
              "\n",
              "<style>\n",
              "  .colab-df-quickchart {\n",
              "      --bg-color: #E8F0FE;\n",
              "      --fill-color: #1967D2;\n",
              "      --hover-bg-color: #E2EBFA;\n",
              "      --hover-fill-color: #174EA6;\n",
              "      --disabled-fill-color: #AAA;\n",
              "      --disabled-bg-color: #DDD;\n",
              "  }\n",
              "\n",
              "  [theme=dark] .colab-df-quickchart {\n",
              "      --bg-color: #3B4455;\n",
              "      --fill-color: #D2E3FC;\n",
              "      --hover-bg-color: #434B5C;\n",
              "      --hover-fill-color: #FFFFFF;\n",
              "      --disabled-bg-color: #3B4455;\n",
              "      --disabled-fill-color: #666;\n",
              "  }\n",
              "\n",
              "  .colab-df-quickchart {\n",
              "    background-color: var(--bg-color);\n",
              "    border: none;\n",
              "    border-radius: 50%;\n",
              "    cursor: pointer;\n",
              "    display: none;\n",
              "    fill: var(--fill-color);\n",
              "    height: 32px;\n",
              "    padding: 0;\n",
              "    width: 32px;\n",
              "  }\n",
              "\n",
              "  .colab-df-quickchart:hover {\n",
              "    background-color: var(--hover-bg-color);\n",
              "    box-shadow: 0 1px 2px rgba(60, 64, 67, 0.3), 0 1px 3px 1px rgba(60, 64, 67, 0.15);\n",
              "    fill: var(--button-hover-fill-color);\n",
              "  }\n",
              "\n",
              "  .colab-df-quickchart-complete:disabled,\n",
              "  .colab-df-quickchart-complete:disabled:hover {\n",
              "    background-color: var(--disabled-bg-color);\n",
              "    fill: var(--disabled-fill-color);\n",
              "    box-shadow: none;\n",
              "  }\n",
              "\n",
              "  .colab-df-spinner {\n",
              "    border: 2px solid var(--fill-color);\n",
              "    border-color: transparent;\n",
              "    border-bottom-color: var(--fill-color);\n",
              "    animation:\n",
              "      spin 1s steps(1) infinite;\n",
              "  }\n",
              "\n",
              "  @keyframes spin {\n",
              "    0% {\n",
              "      border-color: transparent;\n",
              "      border-bottom-color: var(--fill-color);\n",
              "      border-left-color: var(--fill-color);\n",
              "    }\n",
              "    20% {\n",
              "      border-color: transparent;\n",
              "      border-left-color: var(--fill-color);\n",
              "      border-top-color: var(--fill-color);\n",
              "    }\n",
              "    30% {\n",
              "      border-color: transparent;\n",
              "      border-left-color: var(--fill-color);\n",
              "      border-top-color: var(--fill-color);\n",
              "      border-right-color: var(--fill-color);\n",
              "    }\n",
              "    40% {\n",
              "      border-color: transparent;\n",
              "      border-right-color: var(--fill-color);\n",
              "      border-top-color: var(--fill-color);\n",
              "    }\n",
              "    60% {\n",
              "      border-color: transparent;\n",
              "      border-right-color: var(--fill-color);\n",
              "    }\n",
              "    80% {\n",
              "      border-color: transparent;\n",
              "      border-right-color: var(--fill-color);\n",
              "      border-bottom-color: var(--fill-color);\n",
              "    }\n",
              "    90% {\n",
              "      border-color: transparent;\n",
              "      border-bottom-color: var(--fill-color);\n",
              "    }\n",
              "  }\n",
              "</style>\n",
              "\n",
              "  <script>\n",
              "    async function quickchart(key) {\n",
              "      const quickchartButtonEl =\n",
              "        document.querySelector('#' + key + ' button');\n",
              "      quickchartButtonEl.disabled = true;  // To prevent multiple clicks.\n",
              "      quickchartButtonEl.classList.add('colab-df-spinner');\n",
              "      try {\n",
              "        const charts = await google.colab.kernel.invokeFunction(\n",
              "            'suggestCharts', [key], {});\n",
              "      } catch (error) {\n",
              "        console.error('Error during call to suggestCharts:', error);\n",
              "      }\n",
              "      quickchartButtonEl.classList.remove('colab-df-spinner');\n",
              "      quickchartButtonEl.classList.add('colab-df-quickchart-complete');\n",
              "    }\n",
              "    (() => {\n",
              "      let quickchartButtonEl =\n",
              "        document.querySelector('#df-60b37f42-ab6b-461d-826b-357d1a83dde7 button');\n",
              "      quickchartButtonEl.style.display =\n",
              "        google.colab.kernel.accessAllowed ? 'block' : 'none';\n",
              "    })();\n",
              "  </script>\n",
              "</div>\n",
              "\n",
              "    </div>\n",
              "  </div>\n"
            ],
            "application/vnd.google.colaboratory.intrinsic+json": {
              "type": "dataframe",
              "summary": "{\n  \"name\": \"df_Ventas\",\n  \"rows\": 8,\n  \"fields\": [\n    {\n      \"column\": \"Fecha\",\n      \"properties\": {\n        \"dtype\": \"number\",\n        \"std\": 20978.54308213274,\n        \"min\": 5.338539126015656,\n        \"max\": 45339.0,\n        \"num_unique_values\": 7,\n        \"samples\": [\n          18.0,\n          45330.5,\n          45334.75\n        ],\n        \"semantic_type\": \"\",\n        \"description\": \"\"\n      }\n    },\n    {\n      \"column\": \"Ventas\",\n      \"properties\": {\n        \"dtype\": \"number\",\n        \"std\": 9727.794689822214,\n        \"min\": 18.0,\n        \"max\": 32855.0,\n        \"num_unique_values\": 8,\n        \"samples\": [\n          13307.388888888889,\n          10529.5,\n          18.0\n        ],\n        \"semantic_type\": \"\",\n        \"description\": \"\"\n      }\n    }\n  ]\n}"
            }
          },
          "metadata": {},
          "execution_count": 19
        }
      ]
    },
    {
      "cell_type": "code",
      "source": [
        "# Ejercicio 2: Calcular el total de ventas por region\n",
        "print(\"Ejercicio 2: Calcular el total de ventas por region\")\n",
        "ventas_por_region = df_Ventas.groupby('Region')['Ventas'].sum()\n",
        "print(ventas_por_region)\n",
        "print(\"\\n\")\n",
        "print(df_Ventas.head(10))"
      ],
      "metadata": {
        "id": "qf6c_tAhSo15",
        "colab": {
          "base_uri": "https://localhost:8080/"
        },
        "outputId": "6dcadc4a-2fc6-4df1-9dee-b8b47d8a2820"
      },
      "execution_count": null,
      "outputs": [
        {
          "output_type": "stream",
          "name": "stdout",
          "text": [
            "Ejercicio 2: Calcular el total de ventas por region\n",
            "Region\n",
            "Central    90295\n",
            "Este       63555\n",
            "Oeste      85683\n",
            "Name: Ventas, dtype: int64\n",
            "\n",
            "\n",
            "   Fecha   Region      Producto Vendedor  Ventas\n",
            "0  45322  Central    Accesorios    David    8287\n",
            "1  45323  Central    Accesorios    Karen    6909\n",
            "2  45324  Central  Dispositivos    David   11420\n",
            "3  45325  Central  Dispositivos    Karen   12948\n",
            "4  45326  Central      Sistemas    David   20098\n",
            "5  45327  Central      Sistemas    Karen   30633\n",
            "6  45328     Este    Accesorios      Ana    9323\n",
            "7  45329     Este    Accesorios    Lucas    7667\n",
            "8  45330     Este  Dispositivos      Ana   10348\n",
            "9  45331     Este  Dispositivos    Lucas    9312\n"
          ]
        }
      ]
    },
    {
      "cell_type": "code",
      "source": [
        "# Ejercicio 3 : Filtrar el DataFrame para mostrar solo las ventas realizadas por David\n",
        "print(\"Ejercicio 3: Filtrar el DataFrame para mostrar solo las ventas realizadas por David\")\n",
        "ventas_david = df_Ventas[df_Ventas['Producto'] == 'Accesorios']\n",
        "print(ventas_david)"
      ],
      "metadata": {
        "id": "1-NDR8JiS5n6",
        "colab": {
          "base_uri": "https://localhost:8080/"
        },
        "outputId": "c528be04-d05d-4af3-8ace-b0d2b5c4f51c"
      },
      "execution_count": null,
      "outputs": [
        {
          "output_type": "stream",
          "name": "stdout",
          "text": [
            "Ejercicio 3: Filtrar el DataFrame para mostrar solo las ventas realizadas por David\n",
            "    Fecha   Region    Producto Vendedor  Ventas\n",
            "0   45322  Central  Accesorios    David    8287\n",
            "1   45323  Central  Accesorios    Karen    6909\n",
            "6   45328     Este  Accesorios      Ana    9323\n",
            "7   45329     Este  Accesorios    Lucas    7667\n",
            "12  45334    Oeste  Accesorios    Kevin    4744\n",
            "13  45335    Oeste  Accesorios     Sara    5442\n"
          ]
        }
      ]
    },
    {
      "cell_type": "code",
      "source": [
        "# Ejercicio 7: Filtrar las filas con ventas mayores a 10000 rdenar de mayor a menor\n",
        "print(\"Ejercicio 7: Filtrar las filas con ventas mayores a 10000 rdenar de mayor a menor\")\n",
        "df_Ventas_filtrado = df_Ventas[df_Ventas['Ventas'] > 10000].sort_values(by='Ventas', ascending=False)\n",
        "print(df_Ventas_filtrado)\n"
      ],
      "metadata": {
        "id": "J8P7C7kWXiyY",
        "colab": {
          "base_uri": "https://localhost:8080/"
        },
        "outputId": "253ffe57-c3cc-4d4e-ce61-444e21115590"
      },
      "execution_count": null,
      "outputs": [
        {
          "output_type": "stream",
          "name": "stdout",
          "text": [
            "Ejercicio 7: Filtrar las filas con ventas mayores a 10000 rdenar de mayor a menor\n",
            "    Fecha   Region      Producto Vendedor  Ventas\n",
            "16  45338    Oeste      Sistemas    Kevin   32855\n",
            "5   45327  Central      Sistemas    Karen   30633\n",
            "17  45339    Oeste      Sistemas     Sara   23151\n",
            "4   45326  Central      Sistemas    David   20098\n",
            "10  45332     Este      Sistemas      Ana   13531\n",
            "11  45333     Este      Sistemas    Lucas   13374\n",
            "3   45325  Central  Dispositivos    Karen   12948\n",
            "2   45324  Central  Dispositivos    David   11420\n",
            "14  45336    Oeste  Dispositivos    Kevin   10711\n",
            "8   45330     Este  Dispositivos      Ana   10348\n"
          ]
        }
      ]
    },
    {
      "cell_type": "code",
      "source": [
        "# Ejercicio 9 : Eliminar la columna \"Vendedor\"\n",
        "print(\"Ejercicio 9: Eliminar la columna \\\"Vendedor\\\"\")\n",
        "df_Ventas_sin_vendedor = df_Ventas.drop('Vendedor', axis=1)\n",
        "print(df_Ventas_sin_vendedor)"
      ],
      "metadata": {
        "id": "eDMzHHaJYGt2",
        "colab": {
          "base_uri": "https://localhost:8080/"
        },
        "outputId": "c38f77b7-eb02-4614-9f85-147099e3ee2c"
      },
      "execution_count": null,
      "outputs": [
        {
          "output_type": "stream",
          "name": "stdout",
          "text": [
            "Ejercicio 9: Eliminar la columna \"Vendedor\"\n",
            "    Fecha   Region      Producto  Ventas\n",
            "0   45322  Central    Accesorios    8287\n",
            "1   45323  Central    Accesorios    6909\n",
            "2   45324  Central  Dispositivos   11420\n",
            "3   45325  Central  Dispositivos   12948\n",
            "4   45326  Central      Sistemas   20098\n",
            "5   45327  Central      Sistemas   30633\n",
            "6   45328     Este    Accesorios    9323\n",
            "7   45329     Este    Accesorios    7667\n",
            "8   45330     Este  Dispositivos   10348\n",
            "9   45331     Este  Dispositivos    9312\n",
            "10  45332     Este      Sistemas   13531\n",
            "11  45333     Este      Sistemas   13374\n",
            "12  45334    Oeste    Accesorios    4744\n",
            "13  45335    Oeste    Accesorios    5442\n",
            "14  45336    Oeste  Dispositivos   10711\n",
            "15  45337    Oeste  Dispositivos    8780\n",
            "16  45338    Oeste      Sistemas   32855\n",
            "17  45339    Oeste      Sistemas   23151\n"
          ]
        }
      ]
    }
  ]
}